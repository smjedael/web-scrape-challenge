{
 "cells": [
  {
   "cell_type": "code",
   "execution_count": null,
   "metadata": {},
   "outputs": [],
   "source": [
    "import pandas as pd\n",
    "import requests\n",
    "from bs4 import BeautifulSoup\n",
    "from splinter import Browser"
   ]
  },
  {
   "cell_type": "code",
   "execution_count": null,
   "metadata": {},
   "outputs": [],
   "source": [
    "# Using splinter to retrieve Web Sites since 'requests.get' doesn't appear to pull latest updates\n",
    "executable_path = {'executable_path': 'chromedriver.exe'}\n",
    "browser = Browser('chrome', **executable_path, headless=False)\n"
   ]
  },
  {
   "cell_type": "code",
   "execution_count": null,
   "metadata": {},
   "outputs": [],
   "source": [
    "# Web scrape NASA Mars News site\n",
    "url = 'https://mars.nasa.gov/news/'\n",
    "\n",
    "browser.visit(url)\n",
    "soup = BeautifulSoup(browser.html, 'lxml')\n",
    "\n",
    "news_title = soup.find('div', class_='content_title').a.text\n",
    "news_p = soup.find('div', class_='article_teaser_body').contents[0]"
   ]
  },
  {
   "cell_type": "code",
   "execution_count": null,
   "metadata": {},
   "outputs": [],
   "source": [
    "# Web scrape JPL Mars Space Images\n",
    "url = 'https://www.jpl.nasa.gov/spaceimages/?search=&category=Mars'\n",
    "\n",
    "browser.visit(url)\n",
    "soup = BeautifulSoup(browser.html, 'lxml')\n",
    "\n",
    "featured_image = soup.find('li', class_='slide').a['data-fancybox-href']\n",
    "featured_image_url = f'https://www.jpl.nasa.gov{featured_image}'"
   ]
  },
  {
   "cell_type": "code",
   "execution_count": null,
   "metadata": {},
   "outputs": [],
   "source": [
    "# Web scrape Mars Weather twitter account\n",
    "url = 'https://twitter.com/marswxreport?lang=en'\n",
    "\n",
    "browser.visit(url)\n",
    "soup = BeautifulSoup(browser.html, 'lxml')\n",
    "\n",
    "tweets = soup.find_all('div', class_='js-tweet-text-container')\n",
    "\n",
    "# Find tweet with appropriate weather data\n",
    "mars_weather = ''\n",
    "criteria = ('Sol ', ', high ', ', low', ', pressure at')\n",
    "\n",
    "for tweet in tweets:\n",
    "    if all(word in tweet.text for word in criteria):\n",
    "        mars_weather = tweet.text.replace('\\n','')\n",
    "        break\n",
    "\n",
    "if mars_weather == '':\n",
    "    mars_weather = 'No weather data is available at this time.'       "
   ]
  },
  {
   "cell_type": "code",
   "execution_count": null,
   "metadata": {},
   "outputs": [],
   "source": [
    "# Web scrape Mars Facts Page\n",
    "url = 'https://space-facts.com/mars/'\n",
    "\n",
    "mars_table = pd.read_html(url)\n",
    "df = mars_table[0]\n",
    "df.columns = ['Description','Value']\n",
    "\n",
    "mars_facts_html = df.to_html(index=False)"
   ]
  },
  {
   "cell_type": "code",
   "execution_count": null,
   "metadata": {},
   "outputs": [],
   "source": [
    "# Web scrape Mars Hemispheres\n",
    "url = 'https://astrogeology.usgs.gov/search/results?q=hemisphere+enhanced&k1=target&v1=Mars'\n",
    "\n",
    "# Create array of Mars Hemispheres\n",
    "hemispheres = ['Cerberus Hemisphere Enhanced',\n",
    "               'Schiaparelli Hemisphere Enhanced',\n",
    "               'Syrtis Major Hemisphere Enhanced',\n",
    "               'Valles Marineris Hemisphere Enhanced'\n",
    "              ]\n",
    "\n",
    "# Create array to store image dictionaries\n",
    "hemisphere_img_urls = []\n",
    "\n",
    "#Grab Mars Hemispheres\n",
    "for hemisphere in hemispheres:\n",
    "    browser.visit(url)\n",
    "    browser.click_link_by_partial_text(hemisphere)\n",
    "    html = browser.html\n",
    "    soup = BeautifulSoup(html, 'lxml')\n",
    "    img_url = soup.find('div', class_='downloads').a['href']\n",
    "    hemisphere_img_urls.append({'title':hemisphere, 'img_url':img_url})"
   ]
  },
  {
   "cell_type": "code",
   "execution_count": null,
   "metadata": {},
   "outputs": [],
   "source": [
    "# Close Browser\n",
    "browser.quit()"
   ]
  },
  {
   "cell_type": "code",
   "execution_count": null,
   "metadata": {},
   "outputs": [],
   "source": [
    "# Create Mars Dictionary\n",
    "mars_dict = {'news':{'news_title':news_title, 'news_p':news_p},\n",
    "             'featured_image_url':featured_image_url,\n",
    "             'mars_weather':mars_weather,\n",
    "             'mars_facts_html':mars_facts_html,\n",
    "             'hemisphere_img_urls':hemisphere_img_urls\n",
    "            }"
   ]
  },
  {
   "cell_type": "code",
   "execution_count": null,
   "metadata": {},
   "outputs": [],
   "source": []
  }
 ],
 "metadata": {
  "kernelspec": {
   "display_name": "Python 3",
   "language": "python",
   "name": "python3"
  },
  "language_info": {
   "codemirror_mode": {
    "name": "ipython",
    "version": 3
   },
   "file_extension": ".py",
   "mimetype": "text/x-python",
   "name": "python",
   "nbconvert_exporter": "python",
   "pygments_lexer": "ipython3",
   "version": "3.6.4"
  }
 },
 "nbformat": 4,
 "nbformat_minor": 2
}
